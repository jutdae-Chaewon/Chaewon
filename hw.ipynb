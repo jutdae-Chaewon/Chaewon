{
 "cells": [
  {
   "cell_type": "code",
   "execution_count": 27,
   "metadata": {},
   "outputs": [
    {
     "data": {
      "text/html": [
       "<div>\n",
       "<style scoped>\n",
       "    .dataframe tbody tr th:only-of-type {\n",
       "        vertical-align: middle;\n",
       "    }\n",
       "\n",
       "    .dataframe tbody tr th {\n",
       "        vertical-align: top;\n",
       "    }\n",
       "\n",
       "    .dataframe thead th {\n",
       "        text-align: right;\n",
       "    }\n",
       "</style>\n",
       "<table border=\"1\" class=\"dataframe\">\n",
       "  <thead>\n",
       "    <tr style=\"text-align: right;\">\n",
       "      <th></th>\n",
       "      <th>Age</th>\n",
       "      <th>BMI</th>\n",
       "      <th>High Blood Pressure</th>\n",
       "      <th>Fasting Blood Glucose</th>\n",
       "      <th>HbA1c Level</th>\n",
       "      <th>Smoking</th>\n",
       "      <th>Diagnosis</th>\n",
       "    </tr>\n",
       "  </thead>\n",
       "  <tbody>\n",
       "    <tr>\n",
       "      <th>0</th>\n",
       "      <td>63</td>\n",
       "      <td>27</td>\n",
       "      <td>1</td>\n",
       "      <td>158</td>\n",
       "      <td>6.5</td>\n",
       "      <td>0</td>\n",
       "      <td>0</td>\n",
       "    </tr>\n",
       "    <tr>\n",
       "      <th>1</th>\n",
       "      <td>25</td>\n",
       "      <td>25</td>\n",
       "      <td>0</td>\n",
       "      <td>85</td>\n",
       "      <td>5.0</td>\n",
       "      <td>0</td>\n",
       "      <td>0</td>\n",
       "    </tr>\n",
       "    <tr>\n",
       "      <th>2</th>\n",
       "      <td>21</td>\n",
       "      <td>28</td>\n",
       "      <td>0</td>\n",
       "      <td>155</td>\n",
       "      <td>5.8</td>\n",
       "      <td>0</td>\n",
       "      <td>0</td>\n",
       "    </tr>\n",
       "    <tr>\n",
       "      <th>3</th>\n",
       "      <td>47</td>\n",
       "      <td>29</td>\n",
       "      <td>0</td>\n",
       "      <td>159</td>\n",
       "      <td>3.5</td>\n",
       "      <td>1</td>\n",
       "      <td>0</td>\n",
       "    </tr>\n",
       "    <tr>\n",
       "      <th>4</th>\n",
       "      <td>53</td>\n",
       "      <td>29</td>\n",
       "      <td>0</td>\n",
       "      <td>126</td>\n",
       "      <td>5.8</td>\n",
       "      <td>1</td>\n",
       "      <td>0</td>\n",
       "    </tr>\n",
       "    <tr>\n",
       "      <th>...</th>\n",
       "      <td>...</td>\n",
       "      <td>...</td>\n",
       "      <td>...</td>\n",
       "      <td>...</td>\n",
       "      <td>...</td>\n",
       "      <td>...</td>\n",
       "      <td>...</td>\n",
       "    </tr>\n",
       "    <tr>\n",
       "      <th>70699</th>\n",
       "      <td>62</td>\n",
       "      <td>27</td>\n",
       "      <td>0</td>\n",
       "      <td>160</td>\n",
       "      <td>4.0</td>\n",
       "      <td>0</td>\n",
       "      <td>0</td>\n",
       "    </tr>\n",
       "    <tr>\n",
       "      <th>70700</th>\n",
       "      <td>35</td>\n",
       "      <td>31</td>\n",
       "      <td>1</td>\n",
       "      <td>140</td>\n",
       "      <td>6.0</td>\n",
       "      <td>1</td>\n",
       "      <td>0</td>\n",
       "    </tr>\n",
       "    <tr>\n",
       "      <th>70701</th>\n",
       "      <td>56</td>\n",
       "      <td>31</td>\n",
       "      <td>0</td>\n",
       "      <td>160</td>\n",
       "      <td>5.7</td>\n",
       "      <td>0</td>\n",
       "      <td>1</td>\n",
       "    </tr>\n",
       "    <tr>\n",
       "      <th>70702</th>\n",
       "      <td>37</td>\n",
       "      <td>21</td>\n",
       "      <td>0</td>\n",
       "      <td>159</td>\n",
       "      <td>6.5</td>\n",
       "      <td>0</td>\n",
       "      <td>0</td>\n",
       "    </tr>\n",
       "    <tr>\n",
       "      <th>70703</th>\n",
       "      <td>14</td>\n",
       "      <td>18</td>\n",
       "      <td>0</td>\n",
       "      <td>160</td>\n",
       "      <td>6.5</td>\n",
       "      <td>0</td>\n",
       "      <td>0</td>\n",
       "    </tr>\n",
       "  </tbody>\n",
       "</table>\n",
       "<p>70704 rows × 7 columns</p>\n",
       "</div>"
      ],
      "text/plain": [
       "       Age  BMI  High Blood Pressure  Fasting Blood Glucose  HbA1c Level  \\\n",
       "0       63   27                    1                    158          6.5   \n",
       "1       25   25                    0                     85          5.0   \n",
       "2       21   28                    0                    155          5.8   \n",
       "3       47   29                    0                    159          3.5   \n",
       "4       53   29                    0                    126          5.8   \n",
       "...    ...  ...                  ...                    ...          ...   \n",
       "70699   62   27                    0                    160          4.0   \n",
       "70700   35   31                    1                    140          6.0   \n",
       "70701   56   31                    0                    160          5.7   \n",
       "70702   37   21                    0                    159          6.5   \n",
       "70703   14   18                    0                    160          6.5   \n",
       "\n",
       "       Smoking  Diagnosis  \n",
       "0            0          0  \n",
       "1            0          0  \n",
       "2            0          0  \n",
       "3            1          0  \n",
       "4            1          0  \n",
       "...        ...        ...  \n",
       "70699        0          0  \n",
       "70700        1          0  \n",
       "70701        0          1  \n",
       "70702        0          0  \n",
       "70703        0          0  \n",
       "\n",
       "[70704 rows x 7 columns]"
      ]
     },
     "execution_count": 27,
     "metadata": {},
     "output_type": "execute_result"
    }
   ],
   "source": [
    "import pandas as pd\n",
    "\n",
    "df = pd.read_csv(\"train.csv\")\n",
    "df"
   ]
  },
  {
   "cell_type": "code",
   "execution_count": 46,
   "metadata": {},
   "outputs": [
    {
     "name": "stdout",
     "output_type": "stream",
     "text": [
      "<class 'pandas.core.frame.DataFrame'>\n",
      "RangeIndex: 70704 entries, 0 to 70703\n",
      "Data columns (total 7 columns):\n",
      " #   Column                 Non-Null Count  Dtype  \n",
      "---  ------                 --------------  -----  \n",
      " 0   Age                    70704 non-null  int64  \n",
      " 1   BMI                    70704 non-null  int64  \n",
      " 2   High Blood Pressure    70704 non-null  int64  \n",
      " 3   Fasting Blood Glucose  70704 non-null  int64  \n",
      " 4   HbA1c Level            70704 non-null  float64\n",
      " 5   Smoking                70704 non-null  int64  \n",
      " 6   Diagnosis              70704 non-null  int64  \n",
      "dtypes: float64(1), int64(6)\n",
      "memory usage: 3.8 MB\n"
     ]
    }
   ],
   "source": [
    "df.info()"
   ]
  },
  {
   "cell_type": "code",
   "execution_count": 37,
   "metadata": {},
   "outputs": [
    {
     "name": "stdout",
     "output_type": "stream",
     "text": [
      "(70704, 6) (70704,)\n"
     ]
    }
   ],
   "source": [
    "x = df[[\"Age\", \"BMI\", \"HbA1c Level\", \"Fasting Blood Glucose\", \"High Blood Pressure\", \"Smoking\"]].to_numpy()\n",
    "y = df[\"Diagnosis\"].to_numpy()\n",
    "\n",
    "print(x.shape, y.shape)"
   ]
  },
  {
   "cell_type": "code",
   "execution_count": 38,
   "metadata": {},
   "outputs": [
    {
     "name": "stdout",
     "output_type": "stream",
     "text": [
      "(53028, 6) (53028,)\n",
      "(17676, 6) (17676,)\n"
     ]
    }
   ],
   "source": [
    "from sklearn.model_selection import train_test_split\n",
    "\n",
    "x_train, x_test, y_train, y_test = train_test_split(x, y, random_state=42)\n",
    "\n",
    "print(x_train.shape, y_train.shape)\n",
    "print(x_test.shape, y_test.shape)"
   ]
  },
  {
   "cell_type": "code",
   "execution_count": 39,
   "metadata": {},
   "outputs": [],
   "source": [
    "from sklearn.preprocessing import StandardScaler\n",
    "\n",
    "ss = StandardScaler()\n",
    "\n",
    "ss.fit(x_train)  #mean, std 계산 \n",
    "x_train_scaled = ss.transform(x_train)\n",
    "x_test_scaled = ss.transform(x_test)"
   ]
  },
  {
   "cell_type": "code",
   "execution_count": 26,
   "metadata": {},
   "outputs": [
    {
     "name": "stdout",
     "output_type": "stream",
     "text": [
      "학습용 데이터셋: 0.9548917552990873\n",
      "시험용 데이터셋: 0.9535528400090518\n"
     ]
    }
   ],
   "source": [
    "from sklearn.linear_model import SGDClassifier   #추정기 클래스\n",
    "\n",
    "sc = SGDClassifier(loss='log_loss',   # Loss function (손실 함수)\n",
    "                   max_iter=1000,        # Epoch (전체 샘플을 다 이용함!) 기본값 = 1000\n",
    "                   random_state=42)         \n",
    "\n",
    "# Loss = \"Log loss\" -> 로지스틱 회귀\n",
    "# Loss = \"hinge\" -> 서포트 벡터 머신(Support Vector Machine, SVM)\n",
    "\n",
    "sc.fit(x_train_scaled, y_train)\n",
    "\n",
    "print(\"학습용 데이터셋:\", sc.score(x_train_scaled, y_train))\n",
    "print(\"시험용 데이터셋:\", sc.score(x_test_scaled, y_test))"
   ]
  },
  {
   "cell_type": "code",
   "execution_count": 6,
   "metadata": {},
   "outputs": [
    {
     "name": "stdout",
     "output_type": "stream",
     "text": [
      "학습용 데이터셋: 0.9553632043448744\n",
      "시험용 데이터셋: 0.9540620049785019\n"
     ]
    }
   ],
   "source": [
    "sc.partial_fit(x_train_scaled, y_train)\n",
    "\n",
    "print(\"학습용 데이터셋:\", sc.score(x_train_scaled, y_train))\n",
    "print(\"시험용 데이터셋:\", sc.score(x_test_scaled, y_test))"
   ]
  },
  {
   "cell_type": "code",
   "execution_count": 7,
   "metadata": {},
   "outputs": [],
   "source": [
    "sc = SGDClassifier(loss='log_loss', random_state=42)\n",
    "import numpy as np\n",
    "\n",
    "train_score= []\n",
    "test_score = []\n",
    "\n",
    "for _ in range(0 ,500, 1):\n",
    "    sc.partial_fit(x_train_scaled, y_train, classes=np.unique(y_train))\n",
    "    train_score.append(sc.score(x_train_scaled, y_train))\n",
    "    test_score.append(sc.score(x_test_scaled, y_test))"
   ]
  },
  {
   "cell_type": "code",
   "execution_count": 8,
   "metadata": {},
   "outputs": [
    {
     "data": {
      "image/png": "[encoded data removed]",
      "text/plain": [
       "<Figure size 640x480 with 1 Axes>"
      ]
     },
     "metadata": {},
     "output_type": "display_data"
    }
   ],
   "source": [
    "import matplotlib.pyplot as plt\n",
    "\n",
    "plt.figure()\n",
    "plt.plot(train_score, label=\"train dataset\")\n",
    "plt.plot(test_score, label=\"test_score\")\n",
    "plt.xlabel(\"Epoch\")\n",
    "plt.ylabel(\"Accuracy\")\n",
    "plt.legend()\n",
    "plt.grid()\n",
    "plt.show()"
   ]
  },
  {
   "cell_type": "code",
   "execution_count": 31,
   "metadata": {},
   "outputs": [
    {
     "name": "stdout",
     "output_type": "stream",
     "text": [
      "학습용 데이터셋: 0.9557026476578412\n",
      "시험용 데이터셋: 0.9543448744059742\n"
     ]
    }
   ],
   "source": [
    "sc = SGDClassifier(loss='log_loss',   # Loss function (손실 함수)\n",
    "                   max_iter=400,\n",
    "                   tol=None,\n",
    "                   random_state=42)         \n",
    "\n",
    "# Loss = \"Log loss\" -> 로지스틱 회귀\n",
    "# Loss = \"hinge\" -> 서포트 벡터 머신(Support Vector Machine, SVM)\n",
    "\n",
    "sc.fit(x_train_scaled, y_train)\n",
    "\n",
    "print(\"학습용 데이터셋:\", sc.score(x_train_scaled, y_train))\n",
    "print(\"시험용 데이터셋:\", sc.score(x_test_scaled, y_test))"
   ]
  },
  {
   "cell_type": "code",
   "execution_count": 45,
   "metadata": {},
   "outputs": [
    {
     "name": "stdout",
     "output_type": "stream",
     "text": [
      "학습용 데이터셋: 0.9559100852379875\n",
      "시험용 데이터셋: 0.9549106132609188\n"
     ]
    }
   ],
   "source": [
    "sc = SGDClassifier(loss='hinge',   # Loss function (손실 함수)\n",
    "                   max_iter=500,\n",
    "                   tol=None,\n",
    "                   random_state=42)         \n",
    "\n",
    "# Loss = \"Log loss\" -> 로지스틱 회귀\n",
    "# Loss = \"hinge\" -> 서포트 벡터 머신(Support Vector Machine, SVM)\n",
    "\n",
    "sc.fit(x_train_scaled, y_train)\n",
    "\n",
    "print(\"학습용 데이터셋:\", sc.score(x_train_scaled, y_train))\n",
    "print(\"시험용 데이터셋:\", sc.score(x_test_scaled, y_test))"
   ]
  },
  {
   "cell_type": "code",
   "execution_count": 41,
   "metadata": {},
   "outputs": [
    {
     "name": "stdout",
     "output_type": "stream",
     "text": [
      "(17676, 6)\n"
     ]
    }
   ],
   "source": [
    "df2 = pd.read_csv('test.csv')\n",
    "\n",
    "y_predicted = df2[[\"Age\", \"BMI\", \"HbA1c Level\", \"Fasting Blood Glucose\", \"High Blood Pressure\", \"Smoking\"]].to_numpy()\n",
    "print(y_predicted.shape)"
   ]
  },
  {
   "cell_type": "code",
   "execution_count": 42,
   "metadata": {},
   "outputs": [],
   "source": [
    "ss.fit(y_predicted)\n",
    "y_predict_scaled = ss.transform(y_predicted)"
   ]
  },
  {
   "cell_type": "code",
   "execution_count": 43,
   "metadata": {},
   "outputs": [
    {
     "data": {
      "text/html": [
       "<div>\n",
       "<style scoped>\n",
       "    .dataframe tbody tr th:only-of-type {\n",
       "        vertical-align: middle;\n",
       "    }\n",
       "\n",
       "    .dataframe tbody tr th {\n",
       "        vertical-align: top;\n",
       "    }\n",
       "\n",
       "    .dataframe thead th {\n",
       "        text-align: right;\n",
       "    }\n",
       "</style>\n",
       "<table border=\"1\" class=\"dataframe\">\n",
       "  <thead>\n",
       "    <tr style=\"text-align: right;\">\n",
       "      <th></th>\n",
       "      <th>Age</th>\n",
       "      <th>BMI</th>\n",
       "      <th>High Blood Pressure</th>\n",
       "      <th>Fasting Blood Glucose</th>\n",
       "      <th>HbA1c Level</th>\n",
       "      <th>Smoking</th>\n",
       "      <th>Diagnosis</th>\n",
       "    </tr>\n",
       "  </thead>\n",
       "  <tbody>\n",
       "    <tr>\n",
       "      <th>0</th>\n",
       "      <td>51</td>\n",
       "      <td>20</td>\n",
       "      <td>0</td>\n",
       "      <td>159</td>\n",
       "      <td>6.2</td>\n",
       "      <td>1</td>\n",
       "      <td>0</td>\n",
       "    </tr>\n",
       "    <tr>\n",
       "      <th>1</th>\n",
       "      <td>14</td>\n",
       "      <td>20</td>\n",
       "      <td>0</td>\n",
       "      <td>158</td>\n",
       "      <td>6.1</td>\n",
       "      <td>0</td>\n",
       "      <td>0</td>\n",
       "    </tr>\n",
       "    <tr>\n",
       "      <th>2</th>\n",
       "      <td>38</td>\n",
       "      <td>27</td>\n",
       "      <td>0</td>\n",
       "      <td>200</td>\n",
       "      <td>5.8</td>\n",
       "      <td>0</td>\n",
       "      <td>0</td>\n",
       "    </tr>\n",
       "    <tr>\n",
       "      <th>3</th>\n",
       "      <td>16</td>\n",
       "      <td>17</td>\n",
       "      <td>0</td>\n",
       "      <td>126</td>\n",
       "      <td>3.5</td>\n",
       "      <td>1</td>\n",
       "      <td>0</td>\n",
       "    </tr>\n",
       "    <tr>\n",
       "      <th>4</th>\n",
       "      <td>80</td>\n",
       "      <td>31</td>\n",
       "      <td>1</td>\n",
       "      <td>100</td>\n",
       "      <td>4.8</td>\n",
       "      <td>0</td>\n",
       "      <td>0</td>\n",
       "    </tr>\n",
       "    <tr>\n",
       "      <th>...</th>\n",
       "      <td>...</td>\n",
       "      <td>...</td>\n",
       "      <td>...</td>\n",
       "      <td>...</td>\n",
       "      <td>...</td>\n",
       "      <td>...</td>\n",
       "      <td>...</td>\n",
       "    </tr>\n",
       "    <tr>\n",
       "      <th>17671</th>\n",
       "      <td>8</td>\n",
       "      <td>23</td>\n",
       "      <td>0</td>\n",
       "      <td>126</td>\n",
       "      <td>5.7</td>\n",
       "      <td>0</td>\n",
       "      <td>0</td>\n",
       "    </tr>\n",
       "    <tr>\n",
       "      <th>17672</th>\n",
       "      <td>43</td>\n",
       "      <td>27</td>\n",
       "      <td>0</td>\n",
       "      <td>80</td>\n",
       "      <td>5.8</td>\n",
       "      <td>0</td>\n",
       "      <td>0</td>\n",
       "    </tr>\n",
       "    <tr>\n",
       "      <th>17673</th>\n",
       "      <td>11</td>\n",
       "      <td>20</td>\n",
       "      <td>0</td>\n",
       "      <td>160</td>\n",
       "      <td>5.8</td>\n",
       "      <td>0</td>\n",
       "      <td>0</td>\n",
       "    </tr>\n",
       "    <tr>\n",
       "      <th>17674</th>\n",
       "      <td>24</td>\n",
       "      <td>27</td>\n",
       "      <td>0</td>\n",
       "      <td>90</td>\n",
       "      <td>5.8</td>\n",
       "      <td>0</td>\n",
       "      <td>0</td>\n",
       "    </tr>\n",
       "    <tr>\n",
       "      <th>17675</th>\n",
       "      <td>66</td>\n",
       "      <td>35</td>\n",
       "      <td>0</td>\n",
       "      <td>300</td>\n",
       "      <td>6.6</td>\n",
       "      <td>1</td>\n",
       "      <td>1</td>\n",
       "    </tr>\n",
       "  </tbody>\n",
       "</table>\n",
       "<p>17676 rows × 7 columns</p>\n",
       "</div>"
      ],
      "text/plain": [
       "       Age  BMI  High Blood Pressure  Fasting Blood Glucose  HbA1c Level  \\\n",
       "0       51   20                    0                    159          6.2   \n",
       "1       14   20                    0                    158          6.1   \n",
       "2       38   27                    0                    200          5.8   \n",
       "3       16   17                    0                    126          3.5   \n",
       "4       80   31                    1                    100          4.8   \n",
       "...    ...  ...                  ...                    ...          ...   \n",
       "17671    8   23                    0                    126          5.7   \n",
       "17672   43   27                    0                     80          5.8   \n",
       "17673   11   20                    0                    160          5.8   \n",
       "17674   24   27                    0                     90          5.8   \n",
       "17675   66   35                    0                    300          6.6   \n",
       "\n",
       "       Smoking  Diagnosis  \n",
       "0            1          0  \n",
       "1            0          0  \n",
       "2            0          0  \n",
       "3            1          0  \n",
       "4            0          0  \n",
       "...        ...        ...  \n",
       "17671        0          0  \n",
       "17672        0          0  \n",
       "17673        0          0  \n",
       "17674        0          0  \n",
       "17675        1          1  \n",
       "\n",
       "[17676 rows x 7 columns]"
      ]
     },
     "execution_count": 43,
     "metadata": {},
     "output_type": "execute_result"
    }
   ],
   "source": [
    "y_predict = sc.predict(y_predict_scaled)\n",
    "\n",
    "df2[\"Diagnosis\"] = y_predict\n",
    "df2"
   ]
  },
  {
   "cell_type": "code",
   "execution_count": 44,
   "metadata": {},
   "outputs": [],
   "source": [
    "import pandas as pd\n",
    "import numpy as np\n",
    "\n",
    "f = pd.read_csv(\"submission.csv\")\n",
    "\n",
    "f.dropna(axis=1, inplace=True)\n",
    "\n",
    "# 아래 \"np.arange(0, df.shape[0], 1)\" 부분을, 솜솜이가 만든 모델이 예측한 값으로 대체!\n",
    "y_pred = y_predict \n",
    "\n",
    "f[\"Diagnosis\"] = y_pred\n",
    "f.to_csv(\"new_submission.csv\", index=False)"
   ]
  }
 ],
 "metadata": {
  "kernelspec": {
   "display_name": "base",
   "language": "python",
   "name": "python3"
  },
  "language_info": {
   "codemirror_mode": {
    "name": "ipython",
    "version": 3
   },
   "file_extension": ".py",
   "mimetype": "text/x-python",
   "name": "python",
   "nbconvert_exporter": "python",
   "pygments_lexer": "ipython3",
   "version": "3.10.9"
  }
 },
 "nbformat": 4,
 "nbformat_minor": 2
}
